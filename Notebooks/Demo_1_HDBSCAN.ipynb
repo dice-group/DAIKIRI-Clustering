{
 "cells": [
  {
   "cell_type": "code",
   "execution_count": 1,
   "metadata": {},
   "outputs": [],
   "source": [
    "import os\n",
    "import pandas as pd\n",
    "import numpy as np\n",
    "import hdbscan\n",
    "from sklearn.preprocessing import LabelBinarizer\n",
    "\n",
    "from clustering_evaluation import ClusterPurity"
   ]
  },
  {
   "cell_type": "markdown",
   "metadata": {},
   "source": [
    "# Loading The Dataset:"
   ]
  },
  {
   "cell_type": "code",
   "execution_count": 2,
   "metadata": {},
   "outputs": [
    {
     "name": "stderr",
     "output_type": "stream",
     "text": [
      "/home/daikiri/.conda/envs/daikiri/lib/python3.6/site-packages/IPython/core/interactiveshell.py:3072: DtypeWarning: Columns (10) have mixed types.Specify dtype option on import or set low_memory=False.\n",
      "  interactivity=interactivity, compiler=compiler, result=result)\n"
     ]
    },
    {
     "name": "stdout",
     "output_type": "stream",
     "text": [
      "Input data loaded with shape (2974716, 41)\n"
     ]
    }
   ],
   "source": [
    "# -- load the input dataset--#\n",
    "input_df=pd.read_csv('/home/daikiri/DAIKIRI/src/Hamada/merged.csv', low_memory=True)\n",
    "input_df.index = 'Event_' + input_df.index.astype(str)\n",
    "num_rows, num_cols = input_df.shape  # at max num_rows times num_cols columns.\n",
    "column_names = input_df.columns\n",
    "    \n",
    "print ('Input data loaded with shape', input_df.shape)     "
   ]
  },
  {
   "cell_type": "code",
   "execution_count": null,
   "metadata": {},
   "outputs": [],
   "source": [
    "# binarize string_labels in ['type']\n",
    "lb=LabelBinarizer()\n",
    "event_labels=lb.fit_transform(input_df['type'].tolist())\n",
    "lb.classes_\n"
   ]
  },
  {
   "cell_type": "code",
   "execution_count": 19,
   "metadata": {},
   "outputs": [
    {
     "data": {
      "text/plain": [
       "<AxesSubplot:>"
      ]
     },
     "execution_count": 19,
     "metadata": {},
     "output_type": "execute_result"
    },
    {
     "data": {
      "image/png": "[encoded data removed]",
      "text/plain": [
       "<Figure size 432x288 with 1 Axes>"
      ]
     },
     "metadata": {
      "needs_background": "light"
     },
     "output_type": "display_data"
    }
   ],
   "source": [
    "pd.value_counts(input_df['type'], normalize=True).plot.bar()"
   ]
  },
  {
   "cell_type": "markdown",
   "metadata": {},
   "source": [
    "## Load The Embedding Input Data:"
   ]
  },
  {
   "cell_type": "code",
   "execution_count": 3,
   "metadata": {},
   "outputs": [],
   "source": [
    "#-- load the embeddings data --#\n",
    "embedding_input=pd.read_csv('/home/daikiri/DAIKIRI/src/Hamada/Vectograph_Results/2020-08-08 01:00:07.899851/PYKE_50_embd.csv', index_col=0, low_memory=True)\n",
    "\n",
    "#consider only events embedding (Event_id)\n",
    "embedding_index=embedding_input.index.tolist()\n",
    "prefix = 'Event_'\n",
    "event_ids=list(filter(lambda x: x.startswith(prefix), embedding_index))\n",
    "events_df=embedding_input.loc[event_ids]"
   ]
  },
  {
   "cell_type": "markdown",
   "metadata": {},
   "source": [
    "# HDBSCAN Clustering"
   ]
  },
  {
   "cell_type": "code",
   "execution_count": 4,
   "metadata": {},
   "outputs": [],
   "source": [
    "def hdbscan_clustering(cluster_df):\n",
    "    \"\"\"\n",
    "    param: Embeddings dataframe to be clustered\n",
    "    return: a clustered dataframe\n",
    "    \"\"\"\n",
    "\n",
    "    ##-- Cluster the data using HDBSCAN --### -- Consider Hyperparameter tuning later --#\n",
    "    clusterer = hdbscan.HDBSCAN(algorithm='best', alpha=1.3, approx_min_span_tree=True, metric='euclidean',\n",
    "     gen_min_span_tree=True, min_cluster_size=10000, min_samples=100, cluster_selection_epsilon= 0.5, \n",
    "                                core_dist_n_jobs=1,allow_single_cluster=False).fit(cluster_df)\n",
    "\n",
    "    #-- Save clustering results as a new column in the original dataframe --#\n",
    "    cluster_df['cluster_preds']=clusterer.labels_\n",
    "    \n",
    "    print ('Number of Clusters: ',len(set(clusterer.labels_)))\n",
    "\n",
    "    return cluster_df\n"
   ]
  },
  {
   "cell_type": "markdown",
   "metadata": {},
   "source": [
    "# Clustering Performance: (cluster_purity metric)"
   ]
  },
  {
   "cell_type": "code",
   "execution_count": 5,
   "metadata": {},
   "outputs": [],
   "source": [
    "def evaluate_ClusteringPurity(cluster_preds, cluster_true):\n",
    "    \"\"\"\n",
    "    param: \n",
    "        cluster_preds: predict cluster label\n",
    "        cluster_true: the ground truth labels of clusters. Here, we use 'type' column from \n",
    "        the original dataset.\n",
    "        \n",
    "    return purity_score\n",
    "    \"\"\"\n",
    "\n",
    "    evaluator=ClusterPurity()\n",
    "    purity_score=evaluator.purity_score(y_true=cluster_true, y_pred=cluster_preds)\n",
    "\n",
    "    return purity_score\n"
   ]
  },
  {
   "cell_type": "code",
   "execution_count": 6,
   "metadata": {},
   "outputs": [],
   "source": [
    "def cluster_distriubions(clustered_df):\n",
    "    \n",
    "    print('Clusters Distributions: ')\n",
    "    cluster_distributions=clustered_df.groupby('cluster_preds').size()\n",
    "    for cluster, size in cluster_distributions.items():\n",
    "        print (cluster, size)\n"
   ]
  },
  {
   "cell_type": "markdown",
   "metadata": {},
   "source": [
    "# Evaluation Results:"
   ]
  },
  {
   "cell_type": "code",
   "execution_count": 7,
   "metadata": {},
   "outputs": [
    {
     "name": "stdout",
     "output_type": "stream",
     "text": [
      "Number of Clusters:  3\n",
      "Clustering Purity Score:  0.9760810779919831\n",
      "Clusters Distributions: \n",
      "-1 4207\n",
      "0 114947\n",
      "1 2855562\n"
     ]
    }
   ],
   "source": [
    " #-- Clustering using HDBSCAN --#\n",
    "clustered_df=hdbscan_clustering(events_df)\n",
    "\n",
    "cluster_preds= events_df['cluster_preds'].tolist()\n",
    "cluster_true= input_df['type'].tolist()\n",
    "\n",
    "#-- Evaluate the clustering performance --#\n",
    "purity_score=evaluate_ClusteringPurity(cluster_preds, cluster_true)\n",
    "print('Clustering Purity Score: ', purity_score)\n",
    "    \n",
    "# -- Print Cluster Distributions --#\n",
    "cluster_distriubions(clustered_df)\n"
   ]
  },
  {
   "cell_type": "code",
   "execution_count": 13,
   "metadata": {},
   "outputs": [
    {
     "name": "stdout",
     "output_type": "stream",
     "text": [
      "Accuracy: 0.936376\n",
      "Precision: 0.326482\n"
     ]
    },
    {
     "name": "stderr",
     "output_type": "stream",
     "text": [
      "/home/daikiri/.conda/envs/daikiri/lib/python3.6/site-packages/sklearn/metrics/_classification.py:1221: UndefinedMetricWarning: Recall is ill-defined and being set to 0.0 in labels with no true samples. Use `zero_division` parameter to control this behavior.\n",
      "  _warn_prf(average, modifier, msg_start, len(result))\n"
     ]
    },
    {
     "name": "stdout",
     "output_type": "stream",
     "text": [
      "Recall: 0.321963\n",
      "F1 score: 0.324100\n"
     ]
    }
   ],
   "source": [
    "from sklearn.metrics import accuracy_score, precision_score, recall_score, f1_score\n",
    "\n",
    "#----------- Evaluation based on Precision, Recall, Accuracy and F1-score: -------#\n",
    "accuracy = accuracy_score(event_labels, cluster_preds)\n",
    "print('Accuracy: %f' % accuracy)\n",
    "\n",
    "precision = precision_score(event_labels, cluster_preds, average='macro')\n",
    "print('Precision: %f' % precision)\n",
    "\n",
    "recall = recall_score(event_labels, cluster_preds, average='macro')\n",
    "print('Recall: %f' % recall)\n",
    "\n",
    "f1 = f1_score(event_labels, cluster_preds, average='macro')\n",
    "print('F1 score: %f' % f1)"
   ]
  },
  {
   "cell_type": "code",
   "execution_count": 14,
   "metadata": {},
   "outputs": [
    {
     "name": "stderr",
     "output_type": "stream",
     "text": [
      "/home/daikiri/.conda/envs/daikiri/lib/python3.6/site-packages/sklearn/utils/validation.py:71: FutureWarning: Pass labels=[0, 1] as keyword args. From version 0.25 passing these as positional arguments will result in an error\n",
      "  FutureWarning)\n"
     ]
    },
    {
     "data": {
      "text/plain": [
       "[Text(0, 0.5, 'stock change'), Text(0, 1.5, 'order')]"
      ]
     },
     "execution_count": 14,
     "metadata": {},
     "output_type": "execute_result"
    },
    {
     "data": {
      "image/png": "[encoded data removed]",
      "text/plain": [
       "<Figure size 432x288 with 2 Axes>"
      ]
     },
     "metadata": {
      "needs_background": "light"
     },
     "output_type": "display_data"
    }
   ],
   "source": [
    "#------------- Confusion Matrix ------------------#\n",
    "from sklearn.metrics import confusion_matrix\n",
    "import seaborn as sns\n",
    "import matplotlib.pyplot as plt  \n",
    "\n",
    "labels=[0, 1]\n",
    "cm= confusion_matrix(event_labels, cluster_preds, labels, normalize='all')\n",
    "ax= plt.subplot()\n",
    "\n",
    "sns.heatmap(cm, annot=True, ax = ax, cmap=\"YlGnBu\"); #annot=True to annotate cells\n",
    "\n",
    "# labels, title and ticks\n",
    "ax.set_xlabel('Predicted labels')\n",
    "ax.set_ylabel('True labels') \n",
    "ax.set_title('Confusion Matrix') \n",
    "ax.xaxis.set_ticklabels(['order', 'stock change'])\n",
    "ax.yaxis.set_ticklabels(['stock change', 'order'])"
   ]
  },
  {
   "cell_type": "code",
   "execution_count": null,
   "metadata": {},
   "outputs": [],
   "source": []
  }
 ],
 "metadata": {
  "kernelspec": {
   "display_name": "Python (DAIKIRI)",
   "language": "python",
   "name": "daikiri"
  },
  "language_info": {
   "codemirror_mode": {
    "name": "ipython",
    "version": 3
   },
   "file_extension": ".py",
   "mimetype": "text/x-python",
   "name": "python",
   "nbconvert_exporter": "python",
   "pygments_lexer": "ipython3",
   "version": "3.6.10"
  }
 },
 "nbformat": 4,
 "nbformat_minor": 4
}
