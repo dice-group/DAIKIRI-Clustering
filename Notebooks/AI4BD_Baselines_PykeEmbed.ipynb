{
 "cells": [
  {
   "cell_type": "markdown",
   "metadata": {},
   "source": [
    "# Clustering Baselines using Embeddings as a Feature"
   ]
  },
  {
   "cell_type": "code",
   "execution_count": 1,
   "metadata": {},
   "outputs": [],
   "source": [
    "import pandas as pd\n",
    "\n",
    "from sklearn.linear_model import LogisticRegression\n",
    "from sklearn.preprocessing import LabelBinarizer\n",
    "from sklearn.model_selection import train_test_split\n",
    "\n",
    "from sklearn.metrics import accuracy_score, precision_score, recall_score, f1_score\n",
    "\n",
    "import os\n",
    "os.chdir('../')\n",
    "from clustering_evaluation import ClusterPurity\n",
    "from sklearn.cluster import KMeans\n",
    "from sklearn.neighbors import KNeighborsClassifier\n",
    "from sklearn.ensemble import RandomForestClassifier\n",
    "\n",
    "import numpy as np\n",
    "import hdbscan"
   ]
  },
  {
   "cell_type": "markdown",
   "metadata": {},
   "source": [
    "# Load The Dataset (AI4BD):"
   ]
  },
  {
   "cell_type": "code",
   "execution_count": 2,
   "metadata": {},
   "outputs": [
    {
     "name": "stdout",
     "output_type": "stream",
     "text": [
      "Input data loaded with shape (2974716, 41)\n"
     ]
    },
    {
     "data": {
      "text/plain": [
       "array(['order', 'stock change'], dtype='<U12')"
      ]
     },
     "execution_count": 2,
     "metadata": {},
     "output_type": "execute_result"
    }
   ],
   "source": [
    "# -- load the input dataset--#\n",
    "input_df=pd.read_csv('/home/daikiri/DAIKIRI/src/Hamada/merged.csv', low_memory=False)\n",
    "input_df.index = 'Event_' + input_df.index.astype(str)\n",
    "num_rows, num_cols = input_df.shape  # at max num_rows times num_cols columns.\n",
    "column_names = input_df.columns\n",
    "    \n",
    "print ('Input data loaded with shape', input_df.shape) \n",
    "\n",
    "# binarize string_labels in ['type']\n",
    "lb=LabelBinarizer()\n",
    "event_labels=lb.fit_transform(input_df['type'].tolist())\n",
    "lb.classes_\n"
   ]
  },
  {
   "cell_type": "code",
   "execution_count": 3,
   "metadata": {},
   "outputs": [
    {
     "data": {
      "text/html": [
       "<div>\n",
       "<style scoped>\n",
       "    .dataframe tbody tr th:only-of-type {\n",
       "        vertical-align: middle;\n",
       "    }\n",
       "\n",
       "    .dataframe tbody tr th {\n",
       "        vertical-align: top;\n",
       "    }\n",
       "\n",
       "    .dataframe thead th {\n",
       "        text-align: right;\n",
       "    }\n",
       "</style>\n",
       "<table border=\"1\" class=\"dataframe\">\n",
       "  <thead>\n",
       "    <tr style=\"text-align: right;\">\n",
       "      <th></th>\n",
       "      <th>customer_id</th>\n",
       "      <th>customer_name</th>\n",
       "      <th>site_id</th>\n",
       "      <th>customer_number</th>\n",
       "      <th>op_group_id</th>\n",
       "      <th>logistic_type</th>\n",
       "      <th>location_uuid</th>\n",
       "      <th>assortment_uuid</th>\n",
       "      <th>customer_item_number</th>\n",
       "      <th>supplier_id</th>\n",
       "      <th>...</th>\n",
       "      <th>deliver_mon</th>\n",
       "      <th>deliver_tue</th>\n",
       "      <th>deliver_wed</th>\n",
       "      <th>deliver_thu</th>\n",
       "      <th>deliver_fri</th>\n",
       "      <th>start_week</th>\n",
       "      <th>every_week</th>\n",
       "      <th>week_of_month</th>\n",
       "      <th>positive_stock_change</th>\n",
       "      <th>relative_class</th>\n",
       "    </tr>\n",
       "  </thead>\n",
       "  <tbody>\n",
       "    <tr>\n",
       "      <th>Event_0</th>\n",
       "      <td>5800860</td>\n",
       "      <td>customer_b</td>\n",
       "      <td>5317663159</td>\n",
       "      <td>S300034</td>\n",
       "      <td>5.328103e+09</td>\n",
       "      <td>SMART_BIN_CLASSIC</td>\n",
       "      <td>196492C81502483B93A2628C76942705</td>\n",
       "      <td>DE08C08DB85947D8AEF79391FDEF8241</td>\n",
       "      <td>520011582</td>\n",
       "      <td>5319379052</td>\n",
       "      <td>...</td>\n",
       "      <td>True</td>\n",
       "      <td>True</td>\n",
       "      <td>True</td>\n",
       "      <td>True</td>\n",
       "      <td>True</td>\n",
       "      <td>1.0</td>\n",
       "      <td>True</td>\n",
       "      <td>NaN</td>\n",
       "      <td>False</td>\n",
       "      <td>&gt;=100%</td>\n",
       "    </tr>\n",
       "    <tr>\n",
       "      <th>Event_1</th>\n",
       "      <td>5800860</td>\n",
       "      <td>customer_b</td>\n",
       "      <td>5317663159</td>\n",
       "      <td>S300034</td>\n",
       "      <td>5.328103e+09</td>\n",
       "      <td>SMART_BIN_CLASSIC</td>\n",
       "      <td>196492C81502483B93A2628C76942705</td>\n",
       "      <td>DE08C08DB85947D8AEF79391FDEF8241</td>\n",
       "      <td>520011582</td>\n",
       "      <td>5319379052</td>\n",
       "      <td>...</td>\n",
       "      <td>True</td>\n",
       "      <td>True</td>\n",
       "      <td>True</td>\n",
       "      <td>True</td>\n",
       "      <td>True</td>\n",
       "      <td>1.0</td>\n",
       "      <td>True</td>\n",
       "      <td>NaN</td>\n",
       "      <td>True</td>\n",
       "      <td>&gt;=25 &lt;50%</td>\n",
       "    </tr>\n",
       "    <tr>\n",
       "      <th>Event_2</th>\n",
       "      <td>5800860</td>\n",
       "      <td>customer_b</td>\n",
       "      <td>5317663159</td>\n",
       "      <td>S300034</td>\n",
       "      <td>5.328103e+09</td>\n",
       "      <td>SMART_BIN_CLASSIC</td>\n",
       "      <td>196492C81502483B93A2628C76942705</td>\n",
       "      <td>DE08C08DB85947D8AEF79391FDEF8241</td>\n",
       "      <td>520011582</td>\n",
       "      <td>5319379052</td>\n",
       "      <td>...</td>\n",
       "      <td>True</td>\n",
       "      <td>True</td>\n",
       "      <td>True</td>\n",
       "      <td>True</td>\n",
       "      <td>True</td>\n",
       "      <td>1.0</td>\n",
       "      <td>True</td>\n",
       "      <td>NaN</td>\n",
       "      <td>True</td>\n",
       "      <td>&gt;=25 &lt;50%</td>\n",
       "    </tr>\n",
       "    <tr>\n",
       "      <th>Event_3</th>\n",
       "      <td>5800860</td>\n",
       "      <td>customer_b</td>\n",
       "      <td>5317663159</td>\n",
       "      <td>S300034</td>\n",
       "      <td>5.328103e+09</td>\n",
       "      <td>SMART_BIN_CLASSIC</td>\n",
       "      <td>196492C81502483B93A2628C76942705</td>\n",
       "      <td>DE08C08DB85947D8AEF79391FDEF8241</td>\n",
       "      <td>520011582</td>\n",
       "      <td>5319379052</td>\n",
       "      <td>...</td>\n",
       "      <td>NaN</td>\n",
       "      <td>NaN</td>\n",
       "      <td>NaN</td>\n",
       "      <td>NaN</td>\n",
       "      <td>NaN</td>\n",
       "      <td>NaN</td>\n",
       "      <td>NaN</td>\n",
       "      <td>NaN</td>\n",
       "      <td>False</td>\n",
       "      <td>&gt;=2 &lt;4%</td>\n",
       "    </tr>\n",
       "    <tr>\n",
       "      <th>Event_4</th>\n",
       "      <td>5800860</td>\n",
       "      <td>customer_b</td>\n",
       "      <td>5317663159</td>\n",
       "      <td>S300034</td>\n",
       "      <td>5.328103e+09</td>\n",
       "      <td>SMART_BIN_CLASSIC</td>\n",
       "      <td>196492C81502483B93A2628C76942705</td>\n",
       "      <td>DE08C08DB85947D8AEF79391FDEF8241</td>\n",
       "      <td>520011582</td>\n",
       "      <td>5319379052</td>\n",
       "      <td>...</td>\n",
       "      <td>NaN</td>\n",
       "      <td>NaN</td>\n",
       "      <td>NaN</td>\n",
       "      <td>NaN</td>\n",
       "      <td>NaN</td>\n",
       "      <td>NaN</td>\n",
       "      <td>NaN</td>\n",
       "      <td>NaN</td>\n",
       "      <td>False</td>\n",
       "      <td>&gt;=100%</td>\n",
       "    </tr>\n",
       "  </tbody>\n",
       "</table>\n",
       "<p>5 rows × 41 columns</p>\n",
       "</div>"
      ],
      "text/plain": [
       "         customer_id customer_name     site_id customer_number   op_group_id  \\\n",
       "Event_0      5800860    customer_b  5317663159         S300034  5.328103e+09   \n",
       "Event_1      5800860    customer_b  5317663159         S300034  5.328103e+09   \n",
       "Event_2      5800860    customer_b  5317663159         S300034  5.328103e+09   \n",
       "Event_3      5800860    customer_b  5317663159         S300034  5.328103e+09   \n",
       "Event_4      5800860    customer_b  5317663159         S300034  5.328103e+09   \n",
       "\n",
       "             logistic_type                     location_uuid  \\\n",
       "Event_0  SMART_BIN_CLASSIC  196492C81502483B93A2628C76942705   \n",
       "Event_1  SMART_BIN_CLASSIC  196492C81502483B93A2628C76942705   \n",
       "Event_2  SMART_BIN_CLASSIC  196492C81502483B93A2628C76942705   \n",
       "Event_3  SMART_BIN_CLASSIC  196492C81502483B93A2628C76942705   \n",
       "Event_4  SMART_BIN_CLASSIC  196492C81502483B93A2628C76942705   \n",
       "\n",
       "                          assortment_uuid customer_item_number  supplier_id  \\\n",
       "Event_0  DE08C08DB85947D8AEF79391FDEF8241            520011582   5319379052   \n",
       "Event_1  DE08C08DB85947D8AEF79391FDEF8241            520011582   5319379052   \n",
       "Event_2  DE08C08DB85947D8AEF79391FDEF8241            520011582   5319379052   \n",
       "Event_3  DE08C08DB85947D8AEF79391FDEF8241            520011582   5319379052   \n",
       "Event_4  DE08C08DB85947D8AEF79391FDEF8241            520011582   5319379052   \n",
       "\n",
       "         ... deliver_mon  deliver_tue deliver_wed  deliver_thu  deliver_fri  \\\n",
       "Event_0  ...        True         True        True         True         True   \n",
       "Event_1  ...        True         True        True         True         True   \n",
       "Event_2  ...        True         True        True         True         True   \n",
       "Event_3  ...         NaN          NaN         NaN          NaN          NaN   \n",
       "Event_4  ...         NaN          NaN         NaN          NaN          NaN   \n",
       "\n",
       "        start_week  every_week  week_of_month  positive_stock_change  \\\n",
       "Event_0        1.0        True            NaN                  False   \n",
       "Event_1        1.0        True            NaN                   True   \n",
       "Event_2        1.0        True            NaN                   True   \n",
       "Event_3        NaN         NaN            NaN                  False   \n",
       "Event_4        NaN         NaN            NaN                  False   \n",
       "\n",
       "        relative_class  \n",
       "Event_0         >=100%  \n",
       "Event_1      >=25 <50%  \n",
       "Event_2      >=25 <50%  \n",
       "Event_3        >=2 <4%  \n",
       "Event_4         >=100%  \n",
       "\n",
       "[5 rows x 41 columns]"
      ]
     },
     "execution_count": 3,
     "metadata": {},
     "output_type": "execute_result"
    }
   ],
   "source": [
    "input_df.head()"
   ]
  },
  {
   "cell_type": "code",
   "execution_count": 4,
   "metadata": {},
   "outputs": [],
   "source": [
    "#-- load the embeddings data --#\n",
    "embedding_input=pd.read_csv('/home/daikiri/DAIKIRI/src/Hamada/Vectograph_Results/2020-08-08 01:00:07.899851/PYKE_50_embd.csv', index_col=0, low_memory=False)\n",
    "\n",
    "#consider only events embedding (Event_id)\n",
    "embedding_index=embedding_input.index.tolist()\n",
    "prefix = 'Event_'\n",
    "event_ids=list(filter(lambda x: x.startswith(prefix), embedding_index))\n",
    "events_df=embedding_input.loc[event_ids]"
   ]
  },
  {
   "cell_type": "code",
   "execution_count": 5,
   "metadata": {},
   "outputs": [
    {
     "data": {
      "text/html": [
       "<div>\n",
       "<style scoped>\n",
       "    .dataframe tbody tr th:only-of-type {\n",
       "        vertical-align: middle;\n",
       "    }\n",
       "\n",
       "    .dataframe tbody tr th {\n",
       "        vertical-align: top;\n",
       "    }\n",
       "\n",
       "    .dataframe thead th {\n",
       "        text-align: right;\n",
       "    }\n",
       "</style>\n",
       "<table border=\"1\" class=\"dataframe\">\n",
       "  <thead>\n",
       "    <tr style=\"text-align: right;\">\n",
       "      <th></th>\n",
       "      <th>0</th>\n",
       "      <th>1</th>\n",
       "      <th>2</th>\n",
       "      <th>3</th>\n",
       "      <th>4</th>\n",
       "      <th>5</th>\n",
       "      <th>6</th>\n",
       "      <th>7</th>\n",
       "      <th>8</th>\n",
       "      <th>9</th>\n",
       "      <th>...</th>\n",
       "      <th>40</th>\n",
       "      <th>41</th>\n",
       "      <th>42</th>\n",
       "      <th>43</th>\n",
       "      <th>44</th>\n",
       "      <th>45</th>\n",
       "      <th>46</th>\n",
       "      <th>47</th>\n",
       "      <th>48</th>\n",
       "      <th>49</th>\n",
       "    </tr>\n",
       "  </thead>\n",
       "  <tbody>\n",
       "    <tr>\n",
       "      <th>Event_0</th>\n",
       "      <td>0.999795</td>\n",
       "      <td>0.506241</td>\n",
       "      <td>0.999795</td>\n",
       "      <td>0.506241</td>\n",
       "      <td>0.506241</td>\n",
       "      <td>0.999795</td>\n",
       "      <td>0.506241</td>\n",
       "      <td>0.506241</td>\n",
       "      <td>0.999795</td>\n",
       "      <td>0.999795</td>\n",
       "      <td>...</td>\n",
       "      <td>0.999795</td>\n",
       "      <td>0.999795</td>\n",
       "      <td>0.999795</td>\n",
       "      <td>0.999795</td>\n",
       "      <td>0.506241</td>\n",
       "      <td>0.506241</td>\n",
       "      <td>0.999795</td>\n",
       "      <td>0.999795</td>\n",
       "      <td>0.999795</td>\n",
       "      <td>0.265385</td>\n",
       "    </tr>\n",
       "    <tr>\n",
       "      <th>Event_1</th>\n",
       "      <td>0.999795</td>\n",
       "      <td>0.506806</td>\n",
       "      <td>0.999795</td>\n",
       "      <td>0.506806</td>\n",
       "      <td>0.506806</td>\n",
       "      <td>0.999795</td>\n",
       "      <td>0.506806</td>\n",
       "      <td>0.506806</td>\n",
       "      <td>0.999795</td>\n",
       "      <td>0.999795</td>\n",
       "      <td>...</td>\n",
       "      <td>0.999795</td>\n",
       "      <td>0.999795</td>\n",
       "      <td>0.999795</td>\n",
       "      <td>0.999795</td>\n",
       "      <td>0.506806</td>\n",
       "      <td>0.506806</td>\n",
       "      <td>0.999795</td>\n",
       "      <td>0.999795</td>\n",
       "      <td>0.999795</td>\n",
       "      <td>0.265368</td>\n",
       "    </tr>\n",
       "    <tr>\n",
       "      <th>Event_2</th>\n",
       "      <td>0.999795</td>\n",
       "      <td>0.509520</td>\n",
       "      <td>0.999795</td>\n",
       "      <td>0.509520</td>\n",
       "      <td>0.509520</td>\n",
       "      <td>0.999795</td>\n",
       "      <td>0.509520</td>\n",
       "      <td>0.509520</td>\n",
       "      <td>0.999795</td>\n",
       "      <td>0.999795</td>\n",
       "      <td>...</td>\n",
       "      <td>0.999795</td>\n",
       "      <td>0.999795</td>\n",
       "      <td>0.999795</td>\n",
       "      <td>0.999795</td>\n",
       "      <td>0.509520</td>\n",
       "      <td>0.509520</td>\n",
       "      <td>0.999795</td>\n",
       "      <td>0.999795</td>\n",
       "      <td>0.999795</td>\n",
       "      <td>0.265371</td>\n",
       "    </tr>\n",
       "    <tr>\n",
       "      <th>Event_3</th>\n",
       "      <td>0.999795</td>\n",
       "      <td>0.505812</td>\n",
       "      <td>0.999795</td>\n",
       "      <td>0.505812</td>\n",
       "      <td>0.505812</td>\n",
       "      <td>0.999795</td>\n",
       "      <td>0.505812</td>\n",
       "      <td>0.505812</td>\n",
       "      <td>0.999795</td>\n",
       "      <td>0.999795</td>\n",
       "      <td>...</td>\n",
       "      <td>0.999795</td>\n",
       "      <td>0.999795</td>\n",
       "      <td>0.999795</td>\n",
       "      <td>0.999795</td>\n",
       "      <td>0.505812</td>\n",
       "      <td>0.505812</td>\n",
       "      <td>0.999795</td>\n",
       "      <td>0.999795</td>\n",
       "      <td>0.999795</td>\n",
       "      <td>0.265372</td>\n",
       "    </tr>\n",
       "    <tr>\n",
       "      <th>Event_4</th>\n",
       "      <td>0.999795</td>\n",
       "      <td>0.504836</td>\n",
       "      <td>0.999795</td>\n",
       "      <td>0.504836</td>\n",
       "      <td>0.504836</td>\n",
       "      <td>0.999795</td>\n",
       "      <td>0.504836</td>\n",
       "      <td>0.504836</td>\n",
       "      <td>0.999795</td>\n",
       "      <td>0.999795</td>\n",
       "      <td>...</td>\n",
       "      <td>0.999795</td>\n",
       "      <td>0.999795</td>\n",
       "      <td>0.999795</td>\n",
       "      <td>0.999795</td>\n",
       "      <td>0.504836</td>\n",
       "      <td>0.504836</td>\n",
       "      <td>0.999795</td>\n",
       "      <td>0.999795</td>\n",
       "      <td>0.999795</td>\n",
       "      <td>0.265372</td>\n",
       "    </tr>\n",
       "  </tbody>\n",
       "</table>\n",
       "<p>5 rows × 50 columns</p>\n",
       "</div>"
      ],
      "text/plain": [
       "                0         1         2         3         4         5         6  \\\n",
       "Event_0  0.999795  0.506241  0.999795  0.506241  0.506241  0.999795  0.506241   \n",
       "Event_1  0.999795  0.506806  0.999795  0.506806  0.506806  0.999795  0.506806   \n",
       "Event_2  0.999795  0.509520  0.999795  0.509520  0.509520  0.999795  0.509520   \n",
       "Event_3  0.999795  0.505812  0.999795  0.505812  0.505812  0.999795  0.505812   \n",
       "Event_4  0.999795  0.504836  0.999795  0.504836  0.504836  0.999795  0.504836   \n",
       "\n",
       "                7         8         9  ...        40        41        42  \\\n",
       "Event_0  0.506241  0.999795  0.999795  ...  0.999795  0.999795  0.999795   \n",
       "Event_1  0.506806  0.999795  0.999795  ...  0.999795  0.999795  0.999795   \n",
       "Event_2  0.509520  0.999795  0.999795  ...  0.999795  0.999795  0.999795   \n",
       "Event_3  0.505812  0.999795  0.999795  ...  0.999795  0.999795  0.999795   \n",
       "Event_4  0.504836  0.999795  0.999795  ...  0.999795  0.999795  0.999795   \n",
       "\n",
       "               43        44        45        46        47        48        49  \n",
       "Event_0  0.999795  0.506241  0.506241  0.999795  0.999795  0.999795  0.265385  \n",
       "Event_1  0.999795  0.506806  0.506806  0.999795  0.999795  0.999795  0.265368  \n",
       "Event_2  0.999795  0.509520  0.509520  0.999795  0.999795  0.999795  0.265371  \n",
       "Event_3  0.999795  0.505812  0.505812  0.999795  0.999795  0.999795  0.265372  \n",
       "Event_4  0.999795  0.504836  0.504836  0.999795  0.999795  0.999795  0.265372  \n",
       "\n",
       "[5 rows x 50 columns]"
      ]
     },
     "execution_count": 5,
     "metadata": {},
     "output_type": "execute_result"
    }
   ],
   "source": [
    "events_df.head()"
   ]
  },
  {
   "cell_type": "code",
   "execution_count": 14,
   "metadata": {},
   "outputs": [
    {
     "data": {
      "text/plain": [
       "True"
      ]
     },
     "execution_count": 14,
     "metadata": {},
     "output_type": "execute_result"
    }
   ],
   "source": [
    "# check two dataframes have the same indices #\n",
    "input_df.index.identical(events_df.index) "
   ]
  },
  {
   "cell_type": "code",
   "execution_count": 15,
   "metadata": {},
   "outputs": [],
   "source": [
    "# split the dataset into train-test split\n",
    "X_train, X_test, y_train, y_test = train_test_split( events_df.values, event_labels, test_size=0.33, random_state=42)"
   ]
  },
  {
   "cell_type": "markdown",
   "metadata": {},
   "source": [
    "## Baseline_1: Logisitc Regression:"
   ]
  },
  {
   "cell_type": "code",
   "execution_count": 49,
   "metadata": {},
   "outputs": [
    {
     "name": "stderr",
     "output_type": "stream",
     "text": [
      "/home/daikiri/.conda/envs/daikiri/lib/python3.6/site-packages/sklearn/utils/validation.py:73: DataConversionWarning: A column-vector y was passed when a 1d array was expected. Please change the shape of y to (n_samples, ), for example using ravel().\n",
      "  return f(**kwargs)\n"
     ]
    }
   ],
   "source": [
    "logistic_clf = LogisticRegression(solver='liblinear',random_state=42).fit(X_train, y_train)\n",
    "y_predicted = logistic_clf.predict(X_test)"
   ]
  },
  {
   "cell_type": "code",
   "execution_count": 50,
   "metadata": {},
   "outputs": [
    {
     "name": "stdout",
     "output_type": "stream",
     "text": [
      "Accuracy: 0.976017\n",
      "Precision: 0.976017\n",
      "Recall: 1.000000\n",
      "F1 score: 0.987863\n"
     ]
    }
   ],
   "source": [
    "#----------- Evaluation based on Precision, Recall, Accuracy and F1-score: -------#\n",
    "accuracy = accuracy_score(y_test2, y_predicted)\n",
    "print('Accuracy: %f' % accuracy)\n",
    "\n",
    "precision = precision_score(y_test2, y_predicted)\n",
    "print('Precision: %f' % precision)\n",
    "\n",
    "recall = recall_score(y_test2, y_predicted)\n",
    "print('Recall: %f' % recall)\n",
    "\n",
    "f1 = f1_score(y_test2, y_predicted)\n",
    "print('F1 score: %f' % f1)"
   ]
  },
  {
   "cell_type": "code",
   "execution_count": 51,
   "metadata": {},
   "outputs": [
    {
     "name": "stdout",
     "output_type": "stream",
     "text": [
      "Clustering Purity Score:  0.9760170813227024\n"
     ]
    }
   ],
   "source": [
    "#------------- Evaluation based on cluster_purity metric: -----------------#\n",
    "evaluator=ClusterPurity()\n",
    "purity_score=evaluator.purity_score(y_true=y_test, y_pred=y_predicted)\n",
    "\n",
    "print('Clustering Purity Score: ', purity_score)"
   ]
  },
  {
   "cell_type": "code",
   "execution_count": 54,
   "metadata": {},
   "outputs": [
    {
     "data": {
      "text/plain": [
       "[Text(0, 0.5, 'order'), Text(0, 1.5, 'stock change')]"
      ]
     },
     "execution_count": 54,
     "metadata": {},
     "output_type": "execute_result"
    },
    {
     "data": {
      "image/png": "[encoded data removed]",
      "text/plain": [
       "<Figure size 432x288 with 2 Axes>"
      ]
     },
     "metadata": {
      "needs_background": "light"
     },
     "output_type": "display_data"
    }
   ],
   "source": [
    "#------------- Confusion Matrix ------------------#\n",
    "from sklearn.metrics import confusion_matrix\n",
    "import seaborn as sns\n",
    "import matplotlib.pyplot as plt  \n",
    "\n",
    "labels=[0, 1]\n",
    "cm= confusion_matrix(y_test, y_predicted, labels, normalize='all')\n",
    "ax= plt.subplot()\n",
    "\n",
    "sns.heatmap(cm, annot=True, ax = ax, cmap=\"YlGnBu\"); #annot=True to annotate cells\n",
    "\n",
    "# # labels, title and ticks\n",
    "ax.set_xlabel('Predicted labels')\n",
    "ax.set_ylabel('True labels') \n",
    "ax.set_title('Confusion Matrix') \n",
    "ax.xaxis.set_ticklabels(['order', 'stock change'])\n",
    "ax.yaxis.set_ticklabels(['order', 'stock change'])"
   ]
  },
  {
   "cell_type": "markdown",
   "metadata": {},
   "source": [
    "# Baseline_2: K-mean"
   ]
  },
  {
   "cell_type": "code",
   "execution_count": 43,
   "metadata": {},
   "outputs": [],
   "source": [
    "kmeans = KMeans(n_clusters=2, random_state=42).fit(events_df.values)\n",
    "y_predicted=kmeans.predict(events_df.values)"
   ]
  },
  {
   "cell_type": "code",
   "execution_count": 44,
   "metadata": {},
   "outputs": [
    {
     "name": "stdout",
     "output_type": "stream",
     "text": [
      "Clustering Purity Score:  0.9760810779919831\n"
     ]
    }
   ],
   "source": [
    "#------------- Evaluation based on cluster_purity metric: -----------------#\n",
    "purity_score=evaluator.purity_score(y_true=event_labels, y_pred=y_predicted)\n",
    "print('Clustering Purity Score: ', purity_score)"
   ]
  },
  {
   "cell_type": "code",
   "execution_count": 45,
   "metadata": {},
   "outputs": [
    {
     "name": "stdout",
     "output_type": "stream",
     "text": [
      "Accuracy: 0.024060\n",
      "Precision: 0.995294\n",
      "Recall: 0.000146\n",
      "F1 score: 0.000291\n"
     ]
    }
   ],
   "source": [
    "#----------- Evaluation based on Precision, Recall, Accuracy and F1-score: -------#\n",
    "accuracy = accuracy_score(event_labels, y_predicted)\n",
    "print('Accuracy: %f' % accuracy)\n",
    "\n",
    "precision = precision_score(event_labels, y_predicted)\n",
    "print('Precision: %f' % precision)\n",
    "\n",
    "recall = recall_score(event_labels, y_predicted)\n",
    "print('Recall: %f' % recall)\n",
    "\n",
    "f1 = f1_score(event_labels, y_predicted)\n",
    "print('F1 score: %f' % f1)"
   ]
  },
  {
   "cell_type": "code",
   "execution_count": 47,
   "metadata": {},
   "outputs": [
    {
     "data": {
      "text/plain": [
       "[Text(0, 0.5, 'order'), Text(0, 1.5, 'stock change')]"
      ]
     },
     "execution_count": 47,
     "metadata": {},
     "output_type": "execute_result"
    },
    {
     "data": {
      "image/png": "[encoded data removed]",
      "text/plain": [
       "<Figure size 432x288 with 2 Axes>"
      ]
     },
     "metadata": {
      "needs_background": "light"
     },
     "output_type": "display_data"
    }
   ],
   "source": [
    "labels=[0, 1]\n",
    "cm= confusion_matrix(event_labels, y_predicted, labels, normalize='all')\n",
    "ax= plt.subplot()\n",
    "\n",
    "sns.heatmap(cm, annot=True, ax = ax, cmap=\"YlGnBu\"); #annot=True to annotate cells\n",
    "\n",
    "# labels, title and ticks\n",
    "ax.set_xlabel('Predicted labels')\n",
    "ax.set_ylabel('True labels') \n",
    "ax.set_title('Confusion Matrix') \n",
    "ax.xaxis.set_ticklabels(['order', 'stock change'])\n",
    "ax.yaxis.set_ticklabels(['order', 'stock change'])"
   ]
  },
  {
   "cell_type": "markdown",
   "metadata": {},
   "source": [
    "# Baseline_3: KNN "
   ]
  },
  {
   "cell_type": "code",
   "execution_count": 55,
   "metadata": {},
   "outputs": [
    {
     "name": "stderr",
     "output_type": "stream",
     "text": [
      "/home/daikiri/.conda/envs/daikiri/lib/python3.6/site-packages/ipykernel_launcher.py:1: DataConversionWarning: A column-vector y was passed when a 1d array was expected. Please change the shape of y to (n_samples, ), for example using ravel().\n",
      "  \"\"\"Entry point for launching an IPython kernel.\n"
     ]
    }
   ],
   "source": [
    "neigh = KNeighborsClassifier(n_neighbors=1).fit(X_train, y_train)\n",
    "\n",
    "y_predicted = neigh.predict(X_test)"
   ]
  },
  {
   "cell_type": "code",
   "execution_count": 56,
   "metadata": {},
   "outputs": [
    {
     "name": "stdout",
     "output_type": "stream",
     "text": [
      "Accuracy: 0.954594\n",
      "Precision: 0.976429\n",
      "Recall: 0.977064\n",
      "F1 score: 0.976747\n"
     ]
    }
   ],
   "source": [
    "#----------- Evaluation based on Precision, Recall, Accuracy and F1-score: -------#\n",
    "accuracy = accuracy_score(y_test, y_predicted)\n",
    "print('Accuracy: %f' % accuracy)\n",
    "\n",
    "precision = precision_score(y_test, y_predicted)\n",
    "print('Precision: %f' % precision)\n",
    "\n",
    "recall = recall_score(y_test, y_predicted)\n",
    "print('Recall: %f' % recall)\n",
    "\n",
    "f1 = f1_score(y_test, y_predicted)\n",
    "print('F1 score: %f' % f1)"
   ]
  },
  {
   "cell_type": "code",
   "execution_count": 57,
   "metadata": {},
   "outputs": [
    {
     "name": "stdout",
     "output_type": "stream",
     "text": [
      "Clustering Purity Score:  0.9760170813227024\n"
     ]
    }
   ],
   "source": [
    "#------------- Evaluation based on cluster_purity metric: -----------------#\n",
    "purity_score=evaluator.purity_score(y_true=y_test, y_pred=y_predicted)\n",
    "print('Clustering Purity Score: ', purity_score)"
   ]
  },
  {
   "cell_type": "code",
   "execution_count": 58,
   "metadata": {},
   "outputs": [
    {
     "name": "stderr",
     "output_type": "stream",
     "text": [
      "/home/daikiri/.conda/envs/daikiri/lib/python3.6/site-packages/sklearn/utils/validation.py:71: FutureWarning: Pass labels=[0, 1] as keyword args. From version 0.25 passing these as positional arguments will result in an error\n",
      "  FutureWarning)\n"
     ]
    },
    {
     "data": {
      "text/plain": [
       "[Text(0, 0.5, 'order'), Text(0, 1.5, 'stock change')]"
      ]
     },
     "execution_count": 58,
     "metadata": {},
     "output_type": "execute_result"
    },
    {
     "data": {
      "image/png": "[encoded data removed]",
      "text/plain": [
       "<Figure size 432x288 with 2 Axes>"
      ]
     },
     "metadata": {
      "needs_background": "light"
     },
     "output_type": "display_data"
    }
   ],
   "source": [
    "labels=[0, 1]\n",
    "cm= confusion_matrix(y_test, y_predicted, labels, normalize='all')\n",
    "ax= plt.subplot()\n",
    "\n",
    "sns.heatmap(cm, annot=True, ax = ax, cmap=\"YlGnBu\"); #annot=True to annotate cells\n",
    "\n",
    "# labels, title and ticks\n",
    "ax.set_xlabel('Predicted labels')\n",
    "ax.set_ylabel('True labels') \n",
    "ax.set_title('Confusion Matrix') \n",
    "ax.xaxis.set_ticklabels(['order', 'stock change'])\n",
    "ax.yaxis.set_ticklabels(['order', 'stock change'])"
   ]
  },
  {
   "cell_type": "markdown",
   "metadata": {},
   "source": [
    "# Baseline_4: RandomForest"
   ]
  },
  {
   "cell_type": "code",
   "execution_count": 59,
   "metadata": {},
   "outputs": [
    {
     "name": "stderr",
     "output_type": "stream",
     "text": [
      "/home/daikiri/.conda/envs/daikiri/lib/python3.6/site-packages/ipykernel_launcher.py:1: DataConversionWarning: A column-vector y was passed when a 1d array was expected. Please change the shape of y to (n_samples,), for example using ravel().\n",
      "  \"\"\"Entry point for launching an IPython kernel.\n"
     ]
    }
   ],
   "source": [
    "random_clf = RandomForestClassifier(max_depth=2, random_state=42).fit(X_train, y_train)\n",
    "y_predicted= random_clf.predict(X_test)"
   ]
  },
  {
   "cell_type": "code",
   "execution_count": 60,
   "metadata": {},
   "outputs": [
    {
     "name": "stdout",
     "output_type": "stream",
     "text": [
      "Accuracy: 0.976017\n",
      "Precision: 0.976017\n",
      "Recall: 1.000000\n",
      "F1 score: 0.987863\n"
     ]
    }
   ],
   "source": [
    "#----------- Evaluation based on Precision, Recall, Accuracy and F1-score: -------#\n",
    "accuracy = accuracy_score(y_test, y_predicted)\n",
    "print('Accuracy: %f' % accuracy)\n",
    "\n",
    "precision = precision_score(y_test, y_predicted)\n",
    "print('Precision: %f' % precision)\n",
    "\n",
    "recall = recall_score(y_test, y_predicted)\n",
    "print('Recall: %f' % recall)\n",
    "\n",
    "f1 = f1_score(y_test, y_predicted)\n",
    "print('F1 score: %f' % f1)"
   ]
  },
  {
   "cell_type": "code",
   "execution_count": 61,
   "metadata": {},
   "outputs": [
    {
     "name": "stdout",
     "output_type": "stream",
     "text": [
      "Clustering Purity Score:  0.9760170813227024\n"
     ]
    }
   ],
   "source": [
    "#------------- Evaluation based on cluster_purity metric: -----------------#\n",
    "purity_score=evaluator.purity_score(y_true=y_test, y_pred=y_predicted)\n",
    "print('Clustering Purity Score: ', purity_score)"
   ]
  },
  {
   "cell_type": "code",
   "execution_count": 63,
   "metadata": {},
   "outputs": [
    {
     "data": {
      "text/plain": [
       "[Text(0, 0.5, 'order'), Text(0, 1.5, 'stock change')]"
      ]
     },
     "execution_count": 63,
     "metadata": {},
     "output_type": "execute_result"
    },
    {
     "data": {
      "image/png": "[encoded data removed]",
      "text/plain": [
       "<Figure size 432x288 with 2 Axes>"
      ]
     },
     "metadata": {
      "needs_background": "light"
     },
     "output_type": "display_data"
    }
   ],
   "source": [
    "labels=[0, 1]\n",
    "cm= confusion_matrix(y_test, y_predicted, labels, normalize='all')\n",
    "ax= plt.subplot()\n",
    "\n",
    "sns.heatmap(cm, annot=True, ax = ax, cmap=\"YlGnBu\"); #annot=True to annotate cells\n",
    "\n",
    "# labels, title and ticks\n",
    "ax.set_xlabel('Predicted labels')\n",
    "ax.set_ylabel('True labels') \n",
    "ax.set_title('Confusion Matrix') \n",
    "ax.xaxis.set_ticklabels(['order', 'stock change'])\n",
    "ax.yaxis.set_ticklabels(['order', 'stock change'])"
   ]
  },
  {
   "cell_type": "markdown",
   "metadata": {},
   "source": [
    "# Baseline_5: Random Clustering"
   ]
  },
  {
   "cell_type": "code",
   "execution_count": 64,
   "metadata": {},
   "outputs": [
    {
     "name": "stdout",
     "output_type": "stream",
     "text": [
      "Accuracy: 0.499464\n",
      "Precision: 0.976055\n",
      "Recall: 0.499451\n",
      "F1 score: 0.660779\n",
      "Clustering Purity Score:  0.9760810779919831\n"
     ]
    }
   ],
   "source": [
    "labels_random=np.random.randint(2, size=input_df.shape[0])\n",
    "\n",
    "#----------- Evaluation based on Precision, Recall, Accuracy and F1-score: -------#\n",
    "accuracy = accuracy_score(event_labels, labels_random)\n",
    "print('Accuracy: %f' % accuracy)\n",
    "\n",
    "precision = precision_score(event_labels, labels_random)\n",
    "print('Precision: %f' % precision)\n",
    "\n",
    "recall = recall_score(event_labels, labels_random)\n",
    "print('Recall: %f' % recall)\n",
    "\n",
    "f1 = f1_score(event_labels, labels_random)\n",
    "print('F1 score: %f' % f1)\n",
    "\n",
    "#------------- Evaluation based on cluster_purity metric: -----------------#\n",
    "evaluator=ClusterPurity()\n",
    "purity_score=evaluator.purity_score(y_true=event_labels, y_pred=labels_random)\n",
    "\n",
    "print('Clustering Purity Score: ', purity_score)"
   ]
  },
  {
   "cell_type": "code",
   "execution_count": 65,
   "metadata": {},
   "outputs": [
    {
     "data": {
      "text/plain": [
       "[Text(0, 0.5, 'order'), Text(0, 1.5, 'stock change')]"
      ]
     },
     "execution_count": 65,
     "metadata": {},
     "output_type": "execute_result"
    },
    {
     "data": {
      "image/png": "[encoded data removed]",
      "text/plain": [
       "<Figure size 432x288 with 2 Axes>"
      ]
     },
     "metadata": {
      "needs_background": "light"
     },
     "output_type": "display_data"
    }
   ],
   "source": [
    "labels=[0, 1]\n",
    "cm= confusion_matrix(event_labels, labels_random, labels, normalize='all')\n",
    "ax= plt.subplot()\n",
    "\n",
    "sns.heatmap(cm, annot=True, ax = ax, cmap=\"YlGnBu\"); #annot=True to annotate cells\n",
    "\n",
    "# labels, title and ticks\n",
    "ax.set_xlabel('Predicted labels')\n",
    "ax.set_ylabel('True labels') \n",
    "ax.set_title('Confusion Matrix') \n",
    "ax.xaxis.set_ticklabels(['order', 'stock change'])\n",
    "ax.yaxis.set_ticklabels(['order', 'stock change'])"
   ]
  },
  {
   "cell_type": "markdown",
   "metadata": {},
   "source": [
    "---"
   ]
  },
  {
   "cell_type": "markdown",
   "metadata": {},
   "source": [
    "# Clustering based on (1/2) Columns:"
   ]
  },
  {
   "cell_type": "code",
   "execution_count": 29,
   "metadata": {},
   "outputs": [
    {
     "data": {
      "text/plain": [
       "Index(['customer_id', 'customer_name', 'site_id', 'customer_number',\n",
       "       'op_group_id', 'logistic_type', 'location_uuid', 'assortment_uuid',\n",
       "       'customer_item_number', 'supplier_id', 'supplier_item_number',\n",
       "       'box_number_in_site', 'replenished_at', 'old_stock', 'new_stock',\n",
       "       'type', 'order_number', 'site_number', 'order_pos', 'ordering_at',\n",
       "       'order_priority', 'ordered_qty', 'delivery_qty', 'requesting_at',\n",
       "       'shipping_at', 'confirmed_at', 'confirming_at', 'physical_address',\n",
       "       'no_of_boxes', 'reorder_quantity', 'reorder_point', 'deliver_mon',\n",
       "       'deliver_tue', 'deliver_wed', 'deliver_thu', 'deliver_fri',\n",
       "       'start_week', 'every_week', 'week_of_month', 'positive_stock_change',\n",
       "       'relative_class'],\n",
       "      dtype='object')"
      ]
     },
     "execution_count": 29,
     "metadata": {},
     "output_type": "execute_result"
    }
   ],
   "source": [
    "column_names"
   ]
  },
  {
   "cell_type": "code",
   "execution_count": 30,
   "metadata": {},
   "outputs": [
    {
     "name": "stdout",
     "output_type": "stream",
     "text": [
      "(2974716, 2)\n"
     ]
    }
   ],
   "source": [
    "# Clustering using HDBSCAN based column (box_number_in_site)\n",
    "input_df_col1=input_df[['box_number_in_site', 'type']]\n",
    "print (input_df_col1.shape)\n",
    "\n",
    "input_df_col1=input_df_col1.dropna()\n"
   ]
  },
  {
   "cell_type": "code",
   "execution_count": 31,
   "metadata": {},
   "outputs": [
    {
     "data": {
      "text/plain": [
       "array(['order', 'stock change'], dtype='<U12')"
      ]
     },
     "execution_count": 31,
     "metadata": {},
     "output_type": "execute_result"
    }
   ],
   "source": [
    "true_labels=lb.fit_transform(input_df_col1['type'].tolist())\n",
    "lb.classes_\n"
   ]
  },
  {
   "cell_type": "code",
   "execution_count": 33,
   "metadata": {},
   "outputs": [],
   "source": [
    "input_df_col1=input_df_col1[['box_number_in_site']]\n"
   ]
  },
  {
   "cell_type": "code",
   "execution_count": 34,
   "metadata": {},
   "outputs": [
    {
     "name": "stdout",
     "output_type": "stream",
     "text": [
      "Number of Clusters:  92\n"
     ]
    }
   ],
   "source": [
    "##-- Cluster the data using HDBSCAN \n",
    "clusterer = hdbscan.HDBSCAN( algorithm= 'best',  alpha=1.3,  approx_min_span_tree=True,  \n",
    "                            metric='euclidean', gen_min_span_tree= True, min_cluster_size=10000, \n",
    "                            min_samples= 100,cluster_selection_epsilon= 0.5, core_dist_n_jobs=1, allow_single_cluster=False).fit(input_df_col1)\n",
    "    \n",
    "input_df_col1['cluster_preds']=clusterer.labels_    \n",
    "print ('Number of Clusters: ',len(set(clusterer.labels_)))"
   ]
  },
  {
   "cell_type": "code",
   "execution_count": 35,
   "metadata": {},
   "outputs": [],
   "source": [
    "labels_predicted=input_df_col1['cluster_preds'].tolist()"
   ]
  },
  {
   "cell_type": "code",
   "execution_count": 36,
   "metadata": {},
   "outputs": [
    {
     "name": "stdout",
     "output_type": "stream",
     "text": [
      "Accuracy: 0.006979\n",
      "Precision: 0.010900\n"
     ]
    },
    {
     "name": "stderr",
     "output_type": "stream",
     "text": [
      "/home/daikiri/.conda/envs/daikiri/lib/python3.6/site-packages/sklearn/metrics/_classification.py:1221: UndefinedMetricWarning: Recall is ill-defined and being set to 0.0 in labels with no true samples. Use `zero_division` parameter to control this behavior.\n",
      "  _warn_prf(average, modifier, msg_start, len(result))\n"
     ]
    },
    {
     "name": "stdout",
     "output_type": "stream",
     "text": [
      "Recall: 0.000248\n",
      "F1 score: 0.000437\n",
      "Clustering Purity Score:  0.9760817342440316\n"
     ]
    }
   ],
   "source": [
    "#----------- Evaluation based on Precision, Recall, Accuracy and F1-score: -------#\n",
    "accuracy = accuracy_score(true_labels, labels_predicted)\n",
    "print('Accuracy: %f' % accuracy)\n",
    "\n",
    "precision = precision_score(true_labels, labels_predicted, average='macro')\n",
    "print('Precision: %f' % precision)\n",
    "\n",
    "recall = recall_score(true_labels, labels_predicted, average='macro')\n",
    "print('Recall: %f' % recall)\n",
    "\n",
    "f1 = f1_score(true_labels, labels_predicted, average='macro')\n",
    "print('F1 score: %f' % f1)\n",
    "\n",
    "#------------- Evaluation based on cluster_purity metric: -----------------#\n",
    "evaluator=ClusterPurity()\n",
    "purity_score=evaluator.purity_score(y_true=true_labels, y_pred=labels_predicted)\n",
    "\n",
    "print('Clustering Purity Score: ', purity_score)"
   ]
  },
  {
   "cell_type": "markdown",
   "metadata": {},
   "source": [
    "---"
   ]
  },
  {
   "cell_type": "markdown",
   "metadata": {},
   "source": [
    "## Clustering based on Two Columns"
   ]
  },
  {
   "cell_type": "code",
   "execution_count": 38,
   "metadata": {},
   "outputs": [],
   "source": [
    "sub_input_df=input_df[['positive_stock_change','relative_class']]\n",
    "train_as_dicts = [dict(r.iteritems()) for _, r in sub_input_df.iterrows()]"
   ]
  },
  {
   "cell_type": "code",
   "execution_count": 39,
   "metadata": {},
   "outputs": [],
   "source": [
    "from sklearn.feature_extraction import DictVectorizer\n",
    "\n",
    "vectorizer = DictVectorizer(sparse=True)\n",
    "vectorized_sparse = vectorizer.fit_transform(train_as_dicts)\n",
    "\n",
    "X_Data=vectorized_sparse.toarray()"
   ]
  },
  {
   "cell_type": "code",
   "execution_count": 40,
   "metadata": {},
   "outputs": [],
   "source": [
    "##-- Cluster the data using HDBSCAN \n",
    "clusterer = hdbscan.HDBSCAN( algorithm= 'best',  alpha=1.3,  approx_min_span_tree=True,  \n",
    "                            metric='euclidean', gen_min_span_tree= True, min_cluster_size=10000, \n",
    "                            min_samples= 100,cluster_selection_epsilon= 0.5, core_dist_n_jobs=1, allow_single_cluster=False).fit(X_Data)\n",
    "    \n",
    "print ('Number of Clusters: ',len(set(clusterer.labels_)))"
   ]
  },
  {
   "cell_type": "code",
   "execution_count": null,
   "metadata": {},
   "outputs": [],
   "source": [
    "true_labels=lb.fit_transform(input_df_col1['type'].tolist())\n",
    "labels_predicted=input_df_col1['cluster_preds'].tolist()\n",
    "\n",
    "#----------- Evaluation based on Precision, Recall, Accuracy and F1-score: -------#\n",
    "accuracy = accuracy_score(true_labels, labels_predicted)\n",
    "print('Accuracy: %f' % accuracy)\n",
    "\n",
    "precision = precision_score(true_labels, labels_predicted, average='macro')\n",
    "print('Precision: %f' % precision)\n",
    "\n",
    "recall = recall_score(true_labels, labels_predicted, average='macro')\n",
    "print('Recall: %f' % recall)\n",
    "\n",
    "f1 = f1_score(true_labels, labels_predicted, average='macro')\n",
    "print('F1 score: %f' % f1)\n",
    "\n",
    "#------------- Evaluation based on cluster_purity metric: -----------------#\n",
    "evaluator=ClusterPurity()\n",
    "purity_score=evaluator.purity_score(y_true=true_labels, y_pred=labels_predicted)\n",
    "\n",
    "print('Clustering Purity Score: ', purity_score)"
   ]
  },
  {
   "cell_type": "code",
   "execution_count": null,
   "metadata": {},
   "outputs": [],
   "source": [
    "labels=[0, 1]\n",
    "cm= confusion_matrix(event_labels, y_predicted, labels, normalize='all')\n",
    "ax= plt.subplot()\n",
    "\n",
    "sns.heatmap(cm, annot=True, ax = ax, cmap=\"YlGnBu\"); #annot=True to annotate cells\n",
    "\n",
    "# labels, title and ticks\n",
    "ax.set_xlabel('Predicted labels')\n",
    "ax.set_ylabel('True labels') \n",
    "ax.set_title('Confusion Matrix') \n",
    "ax.xaxis.set_ticklabels(['order', 'stock change'])\n",
    "ax.yaxis.set_ticklabels(['stock change', 'order'])"
   ]
  }
 ],
 "metadata": {
  "kernelspec": {
   "display_name": "Python (DAIKIRI)",
   "language": "python",
   "name": "daikiri"
  },
  "language_info": {
   "codemirror_mode": {
    "name": "ipython",
    "version": 3
   },
   "file_extension": ".py",
   "mimetype": "text/x-python",
   "name": "python",
   "nbconvert_exporter": "python",
   "pygments_lexer": "ipython3",
   "version": "3.6.10"
  }
 },
 "nbformat": 4,
 "nbformat_minor": 4
}
