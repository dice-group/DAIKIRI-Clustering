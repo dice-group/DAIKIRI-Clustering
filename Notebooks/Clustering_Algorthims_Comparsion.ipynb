{
 "cells": [
  {
   "cell_type": "markdown",
   "metadata": {},
   "source": [
    "# Comparsion of Clustering Algorithms for High-Dimensional Data:"
   ]
  },
  {
   "cell_type": "code",
   "execution_count": 4,
   "metadata": {},
   "outputs": [],
   "source": [
    "from sklearn.cluster import OPTICS\n",
    "from sklearn.cluster import SpectralClustering\n",
    "from sklearn.cluster import KMeans\n",
    "from sklearn.neighbors import KNeighborsClassifier # assign sample to nearest neighbor\n",
    "import hdbscan\n",
    "#import clique"
   ]
  },
  {
   "cell_type": "code",
   "execution_count": 5,
   "metadata": {},
   "outputs": [],
   "source": [
    "import pandas as pd\n",
    "import numpy as np\n",
    "\n",
    "from sklearn.preprocessing import LabelEncoder\n",
    "from sklearn.model_selection import train_test_split\n",
    "\n",
    "from sklearn.metrics import accuracy_score, precision_score, recall_score, f1_score\n",
    "\n",
    "import os\n",
    "os.chdir('../')\n",
    "from clustering_evaluation import ClusterPurity"
   ]
  },
  {
   "cell_type": "code",
   "execution_count": 12,
   "metadata": {},
   "outputs": [],
   "source": [
    "from sklearn.metrics import confusion_matrix\n",
    "import seaborn as sns\n",
    "import matplotlib.pyplot as plt  "
   ]
  },
  {
   "cell_type": "code",
   "execution_count": 6,
   "metadata": {},
   "outputs": [
    {
     "name": "stdout",
     "output_type": "stream",
     "text": [
      "Input data loaded with shape (2974716, 41)\n"
     ]
    },
    {
     "data": {
      "text/plain": [
       "array(['order', 'stock change'], dtype='<U12')"
      ]
     },
     "execution_count": 6,
     "metadata": {},
     "output_type": "execute_result"
    }
   ],
   "source": [
    "#--------- load the dataset ------------#\n",
    "# -- load the input dataset--#\n",
    "input_df=pd.read_csv('/home/daikiri/DAIKIRI/src/Hamada/merged.csv', low_memory=False)\n",
    "input_df.index = 'Event_' + input_df.index.astype(str)\n",
    "num_rows, num_cols = input_df.shape  # at max num_rows times num_cols columns.\n",
    "column_names = input_df.columns\n",
    "    \n",
    "print ('Input data loaded with shape', input_df.shape) \n",
    "\n",
    "# binarize string_labels in ['type']\n",
    "lb=LabelEncoder()\n",
    "event_labels=lb.fit_transform(input_df['type'].tolist())\n",
    "lb.classes_\n"
   ]
  },
  {
   "cell_type": "code",
   "execution_count": 7,
   "metadata": {},
   "outputs": [],
   "source": [
    "#-- load the embeddings data --#\n",
    "embedding_input=pd.read_csv('/home/daikiri/DAIKIRI/src/Hamada/Vectograph_Results/2020-08-08 01:00:07.899851/PYKE_50_embd.csv', index_col=0, low_memory=False)\n",
    "\n",
    "#consider only events embedding (Event_id)\n",
    "embedding_index=embedding_input.index.tolist()\n",
    "prefix = 'Event_'\n",
    "event_ids=list(filter(lambda x: x.startswith(prefix), embedding_index))\n",
    "events_df=embedding_input.loc[event_ids]"
   ]
  },
  {
   "cell_type": "code",
   "execution_count": 8,
   "metadata": {},
   "outputs": [],
   "source": [
    "# split the dataset into train-test split\n",
    "X_train, X_test, y_train, y_test = train_test_split( events_df.values, event_labels, test_size=0.33, random_state=42)"
   ]
  },
  {
   "cell_type": "markdown",
   "metadata": {},
   "source": [
    "## Centroid based methods:"
   ]
  },
  {
   "cell_type": "markdown",
   "metadata": {},
   "source": [
    "### K-Mean:"
   ]
  },
  {
   "cell_type": "code",
   "execution_count": 9,
   "metadata": {},
   "outputs": [],
   "source": [
    "kmeans = KMeans(n_clusters=2, random_state=42).fit(events_df.values)\n",
    "y_predicted=kmeans.predict(events_df.values)"
   ]
  },
  {
   "cell_type": "code",
   "execution_count": 10,
   "metadata": {},
   "outputs": [
    {
     "name": "stdout",
     "output_type": "stream",
     "text": [
      "Clustering Purity Score:  0.9760810779919831\n",
      "Accuracy: 0.024060\n",
      "Precision: 0.995294\n",
      "Recall: 0.000146\n",
      "F1 score: 0.000291\n"
     ]
    }
   ],
   "source": [
    "#------------- Evaluation based on cluster_purity metric: -----------------#\n",
    "evaluator=ClusterPurity()\n",
    "purity_score=evaluator.purity_score(y_true=event_labels, y_pred=y_predicted)\n",
    "print('Clustering Purity Score: ', purity_score)\n",
    "\n",
    "#----------- Evaluation based on Precision, Recall, Accuracy and F1-score: -------#\n",
    "accuracy = accuracy_score(event_labels, y_predicted)\n",
    "print('Accuracy: %f' % accuracy)\n",
    "\n",
    "precision = precision_score(event_labels, y_predicted)\n",
    "print('Precision: %f' % precision)\n",
    "\n",
    "recall = recall_score(event_labels, y_predicted)\n",
    "print('Recall: %f' % recall)\n",
    "\n",
    "f1 = f1_score(event_labels, y_predicted)\n",
    "print('F1 score: %f' % f1)"
   ]
  },
  {
   "cell_type": "code",
   "execution_count": 14,
   "metadata": {},
   "outputs": [
    {
     "data": {
      "text/plain": [
       "[Text(0, 0.5, 'order'), Text(0, 1.5, 'stock change')]"
      ]
     },
     "execution_count": 14,
     "metadata": {},
     "output_type": "execute_result"
    },
    {
     "data": {
      "image/png": "[encoded data removed]",
      "text/plain": [
       "<Figure size 432x288 with 2 Axes>"
      ]
     },
     "metadata": {
      "needs_background": "light"
     },
     "output_type": "display_data"
    }
   ],
   "source": [
    "#------------- Confusion Matrix ------------------#\n",
    "labels=[0, 1]\n",
    "cm= confusion_matrix(event_labels, y_predicted, labels, normalize='all')\n",
    "ax= plt.subplot()\n",
    "\n",
    "sns.heatmap(cm, annot=True, ax = ax, cmap=\"YlGnBu\"); #annot=True to annotate cells\n",
    "\n",
    "# # labels, title and ticks\n",
    "ax.set_xlabel('Predicted labels')\n",
    "ax.set_ylabel('True labels') \n",
    "ax.set_title('Confusion Matrix') \n",
    "ax.xaxis.set_ticklabels(['order', 'stock change'])\n",
    "ax.yaxis.set_ticklabels(['order', 'stock change'])"
   ]
  },
  {
   "cell_type": "markdown",
   "metadata": {},
   "source": [
    "## Density-based Methods:"
   ]
  },
  {
   "cell_type": "markdown",
   "metadata": {},
   "source": [
    "### HDBSCAN:"
   ]
  },
  {
   "cell_type": "code",
   "execution_count": null,
   "metadata": {},
   "outputs": [],
   "source": [
    "##-- Cluster the data using HDBSCAN --### -- Consider Hyperparameter tuning later --#\n",
    "clusterer = hdbscan.HDBSCAN(algorithm='best', alpha=1.3, approx_min_span_tree=True, metric='euclidean',\n",
    "                            gen_min_span_tree=True, min_cluster_size=10000, min_samples=100, cluster_selection_epsilon= 0.5, \n",
    "                            core_dist_n_jobs=1,allow_single_cluster=False).fit(events_df)"
   ]
  },
  {
   "cell_type": "code",
   "execution_count": 16,
   "metadata": {},
   "outputs": [],
   "source": [
    "y_predicted = clusterer.labels_"
   ]
  },
  {
   "cell_type": "code",
   "execution_count": 18,
   "metadata": {},
   "outputs": [
    {
     "name": "stdout",
     "output_type": "stream",
     "text": [
      "Clustering Purity Score:  0.9760810779919831\n",
      "Accuracy: 0.936376\n",
      "Precision: 0.326482\n"
     ]
    },
    {
     "name": "stderr",
     "output_type": "stream",
     "text": [
      "/home/daikiri/.conda/envs/daikiri/lib/python3.6/site-packages/sklearn/metrics/_classification.py:1221: UndefinedMetricWarning: Recall is ill-defined and being set to 0.0 in labels with no true samples. Use `zero_division` parameter to control this behavior.\n",
      "  _warn_prf(average, modifier, msg_start, len(result))\n"
     ]
    },
    {
     "name": "stdout",
     "output_type": "stream",
     "text": [
      "Recall: 0.321963\n",
      "F1 score: 0.324100\n"
     ]
    }
   ],
   "source": [
    "#------------- Evaluation based on cluster_purity metric: -----------------#\n",
    "purity_score=evaluator.purity_score(y_true=event_labels, y_pred=y_predicted)\n",
    "print('Clustering Purity Score: ', purity_score)\n",
    "\n",
    "#----------- Evaluation based on Precision, Recall, Accuracy and F1-score: -------#\n",
    "accuracy = accuracy_score(event_labels, y_predicted)\n",
    "print('Accuracy: %f' % accuracy)\n",
    "\n",
    "precision = precision_score(event_labels, y_predicted, average='macro')\n",
    "print('Precision: %f' % precision)\n",
    "\n",
    "recall = recall_score(event_labels, y_predicted, average='macro')\n",
    "print('Recall: %f' % recall)\n",
    "\n",
    "f1 = f1_score(event_labels, y_predicted, average='macro')\n",
    "print('F1 score: %f' % f1)"
   ]
  },
  {
   "cell_type": "code",
   "execution_count": 19,
   "metadata": {},
   "outputs": [
    {
     "name": "stderr",
     "output_type": "stream",
     "text": [
      "/home/daikiri/.conda/envs/daikiri/lib/python3.6/site-packages/sklearn/utils/validation.py:71: FutureWarning: Pass labels=[0, 1] as keyword args. From version 0.25 passing these as positional arguments will result in an error\n",
      "  FutureWarning)\n"
     ]
    },
    {
     "data": {
      "text/plain": [
       "[Text(0, 0.5, 'order'), Text(0, 1.5, 'stock change')]"
      ]
     },
     "execution_count": 19,
     "metadata": {},
     "output_type": "execute_result"
    },
    {
     "data": {
      "image/png": "[encoded data removed]",
      "text/plain": [
       "<Figure size 432x288 with 2 Axes>"
      ]
     },
     "metadata": {
      "needs_background": "light"
     },
     "output_type": "display_data"
    }
   ],
   "source": [
    "#------------- Confusion Matrix ------------------#\n",
    "labels=[0, 1]\n",
    "cm= confusion_matrix(event_labels, y_predicted, labels, normalize='all')\n",
    "ax= plt.subplot()\n",
    "\n",
    "sns.heatmap(cm, annot=True, ax = ax, cmap=\"YlGnBu\"); #annot=True to annotate cells\n",
    "\n",
    "# # labels, title and ticks\n",
    "ax.set_xlabel('Predicted labels')\n",
    "ax.set_ylabel('True labels') \n",
    "ax.set_title('Confusion Matrix') \n",
    "ax.xaxis.set_ticklabels(['order', 'stock change'])\n",
    "ax.yaxis.set_ticklabels(['order', 'stock change'])"
   ]
  },
  {
   "cell_type": "markdown",
   "metadata": {},
   "source": [
    "### Optics:"
   ]
  },
  {
   "cell_type": "code",
   "execution_count": 20,
   "metadata": {},
   "outputs": [],
   "source": [
    "from sklearn.cluster import OPTICS"
   ]
  },
  {
   "cell_type": "code",
   "execution_count": null,
   "metadata": {},
   "outputs": [],
   "source": [
    "optics_clusterer = OPTICS(min_samples=100).fit(events_df)"
   ]
  },
  {
   "cell_type": "code",
   "execution_count": null,
   "metadata": {},
   "outputs": [],
   "source": [
    "print (len(optics_clusterer))"
   ]
  },
  {
   "cell_type": "markdown",
   "metadata": {},
   "source": [
    "## Subspace clustering:"
   ]
  },
  {
   "cell_type": "markdown",
   "metadata": {},
   "source": [
    "## Graph-based Clustering:"
   ]
  },
  {
   "cell_type": "markdown",
   "metadata": {},
   "source": [
    "### Spectral:"
   ]
  },
  {
   "cell_type": "markdown",
   "metadata": {},
   "source": [
    "### CLIQUE: https://github.com/georgekatona/Clique"
   ]
  },
  {
   "cell_type": "markdown",
   "metadata": {},
   "source": [
    "## Grid-Based Clustering Algorithms: "
   ]
  },
  {
   "cell_type": "markdown",
   "metadata": {},
   "source": [
    "# Other Resources:"
   ]
  },
  {
   "cell_type": "markdown",
   "metadata": {},
   "source": [
    "https://elki-project.github.io/howto/clustering"
   ]
  },
  {
   "cell_type": "markdown",
   "metadata": {},
   "source": [
    "https://en.wikipedia.org/wiki/Cluster_analysis "
   ]
  },
  {
   "cell_type": "code",
   "execution_count": null,
   "metadata": {},
   "outputs": [],
   "source": []
  }
 ],
 "metadata": {
  "kernelspec": {
   "display_name": "Python (DAIKIRI)",
   "language": "python",
   "name": "daikiri"
  },
  "language_info": {
   "codemirror_mode": {
    "name": "ipython",
    "version": 3
   },
   "file_extension": ".py",
   "mimetype": "text/x-python",
   "name": "python",
   "nbconvert_exporter": "python",
   "pygments_lexer": "ipython3",
   "version": "3.6.10"
  }
 },
 "nbformat": 4,
 "nbformat_minor": 4
}
